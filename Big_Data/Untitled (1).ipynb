{
 "cells": [
  {
   "cell_type": "code",
   "execution_count": 71,
   "metadata": {},
   "outputs": [
    {
     "name": "stdout",
     "output_type": "stream",
     "text": [
      "Overwriting query.hql\n"
     ]
    }
   ],
   "source": [
    "%%writefile query.hql\n",
    "\n",
    "ADD JAR /opt/cloudera/parcels/CDH/lib/hive/lib/hive-contrib.jar;\n",
    "ADD JAR /opt/cloudera/parcels/CDH/lib/hive/lib/hive-serde.jar;\n",
    "\n",
    "USE stackoverflow_;\n",
    "\n",
    "WITH \n",
    "TAG_EX_2016 AS (\n",
    "    SELECT post_type_id,tag\n",
    "    FROM stackoverflow_.posts LATERAL VIEW explode(tags) tagTable AS tag\n",
    "    WHERE Year=2016 and tags IS NOT NULL\n",
    "),\n",
    "TAG_EX_2009 AS (\n",
    "    SELECT post_type_id,tag\n",
    "    FROM stackoverflow_.posts LATERAL VIEW explode(tags) tagTable AS tag\n",
    "    WHERE Year=2009 and tags IS NOT NULL\n",
    "),\n",
    "TAG_COUNT_2016 AS (\n",
    "    SELECT tag, COUNT(post_type_id) AS id_count_2016\n",
    "    FROM TAG_EX_2016\n",
    "    GROUP BY tag\n",
    "    ORDER BY id_count_2016 DESC\n",
    "    LIMIT 10\n",
    "),\n",
    "TAG_COUNT_2009 AS (\n",
    "    SELECT tag, COUNT(post_type_id) AS id_count_2009\n",
    "    FROM TAG_EX_2009\n",
    "    GROUP BY tag\n",
    "    ORDER BY id_count_2009 DESC\n",
    ")\n",
    "SELECT tag,id_count_2016,RANK() OVER(ORDER BY id_count_2016 DESC) AS tag_rank\n",
    "FROM TAG_COUNT_2016"
   ]
  },
  {
   "cell_type": "code",
   "execution_count": 72,
   "metadata": {},
   "outputs": [
    {
     "name": "stdout",
     "output_type": "stream",
     "text": [
      "\n",
      "Logging initialized using configuration in jar:file:/usr/local/apache-hive-1.1.0-bin/lib/hive-common-1.1.0.jar!/hive-log4j.properties\n",
      "Added [/opt/cloudera/parcels/CDH/lib/hive/lib/hive-contrib.jar] to class path\n",
      "Added resources: [/opt/cloudera/parcels/CDH/lib/hive/lib/hive-contrib.jar]\n",
      "Added [/opt/cloudera/parcels/CDH/lib/hive/lib/hive-serde.jar] to class path\n",
      "Added resources: [/opt/cloudera/parcels/CDH/lib/hive/lib/hive-serde.jar]\n",
      "OK\n",
      "Time taken: 1.14 seconds\n",
      "Query ID = jovyan_20180311010606_04782ba8-b96c-446a-bab4-6749ffcca94d\n",
      "Total jobs = 3\n",
      "Launching Job 1 out of 3\n",
      "Number of reduce tasks not specified. Estimated from input data size: 1\n",
      "In order to change the average load for a reducer (in bytes):\n",
      "  set hive.exec.reducers.bytes.per.reducer=<number>\n",
      "In order to limit the maximum number of reducers:\n",
      "  set hive.exec.reducers.max=<number>\n",
      "In order to set a constant number of reducers:\n",
      "  set mapreduce.job.reduces=<number>\n",
      "Starting Job = job_1520709033760_0027, Tracking URL = http://b97da810ec8a:8088/proxy/application_1520709033760_0027/\n",
      "Kill Command = /opt/hadoop/bin/hadoop job  -kill job_1520709033760_0027\n",
      "Hadoop job information for Stage-1: number of mappers: 1; number of reducers: 1\n",
      "2018-03-11 01:06:51,119 Stage-1 map = 0%,  reduce = 0%\n",
      "2018-03-11 01:07:01,022 Stage-1 map = 100%,  reduce = 0%, Cumulative CPU 7.77 sec\n",
      "2018-03-11 01:07:09,814 Stage-1 map = 100%,  reduce = 100%, Cumulative CPU 12.61 sec\n",
      "MapReduce Total cumulative CPU time: 12 seconds 610 msec\n",
      "Ended Job = job_1520709033760_0027\n",
      "Launching Job 2 out of 3\n",
      "Number of reduce tasks determined at compile time: 1\n",
      "In order to change the average load for a reducer (in bytes):\n",
      "  set hive.exec.reducers.bytes.per.reducer=<number>\n",
      "In order to limit the maximum number of reducers:\n",
      "  set hive.exec.reducers.max=<number>\n",
      "In order to set a constant number of reducers:\n",
      "  set mapreduce.job.reduces=<number>\n",
      "Starting Job = job_1520709033760_0028, Tracking URL = http://b97da810ec8a:8088/proxy/application_1520709033760_0028/\n",
      "Kill Command = /opt/hadoop/bin/hadoop job  -kill job_1520709033760_0028\n",
      "Hadoop job information for Stage-2: number of mappers: 1; number of reducers: 1\n",
      "2018-03-11 01:07:27,902 Stage-2 map = 0%,  reduce = 0%\n",
      "2018-03-11 01:07:36,585 Stage-2 map = 100%,  reduce = 0%, Cumulative CPU 3.7 sec\n",
      "2018-03-11 01:07:45,217 Stage-2 map = 100%,  reduce = 100%, Cumulative CPU 7.76 sec\n",
      "MapReduce Total cumulative CPU time: 7 seconds 760 msec\n",
      "Ended Job = job_1520709033760_0028\n",
      "Launching Job 3 out of 3\n",
      "Number of reduce tasks not specified. Estimated from input data size: 1\n",
      "In order to change the average load for a reducer (in bytes):\n",
      "  set hive.exec.reducers.bytes.per.reducer=<number>\n",
      "In order to limit the maximum number of reducers:\n",
      "  set hive.exec.reducers.max=<number>\n",
      "In order to set a constant number of reducers:\n",
      "  set mapreduce.job.reduces=<number>\n",
      "Starting Job = job_1520709033760_0029, Tracking URL = http://b97da810ec8a:8088/proxy/application_1520709033760_0029/\n",
      "Kill Command = /opt/hadoop/bin/hadoop job  -kill job_1520709033760_0029\n",
      "Hadoop job information for Stage-3: number of mappers: 1; number of reducers: 1\n",
      "2018-03-11 01:08:03,237 Stage-3 map = 0%,  reduce = 0%\n",
      "2018-03-11 01:08:11,823 Stage-3 map = 100%,  reduce = 0%, Cumulative CPU 3.47 sec\n",
      "2018-03-11 01:08:21,546 Stage-3 map = 100%,  reduce = 100%, Cumulative CPU 9.36 sec\n",
      "MapReduce Total cumulative CPU time: 9 seconds 360 msec\n",
      "Ended Job = job_1520709033760_0029\n",
      "MapReduce Jobs Launched: \n",
      "Stage-Stage-1: Map: 1  Reduce: 1   Cumulative CPU: 12.61 sec   HDFS Read: 834982 HDFS Write: 283234 SUCCESS\n",
      "Stage-Stage-2: Map: 1  Reduce: 1   Cumulative CPU: 7.76 sec   HDFS Read: 287127 HDFS Write: 354 SUCCESS\n",
      "Stage-Stage-3: Map: 1  Reduce: 1   Cumulative CPU: 9.36 sec   HDFS Read: 6749 HDFS Write: 127 SUCCESS\n",
      "Total MapReduce CPU Time Spent: 29 seconds 730 msec\n",
      "OK\n",
      "javascript\t2771\t1\n",
      "java\t2033\t2\n",
      "android\t1809\t3\n",
      "php\t1673\t4\n",
      "python\t1585\t5\n",
      "c#\t1519\t6\n",
      "html\t1212\t7\n",
      "jquery\t1167\t8\n",
      "ios\t914\t9\n",
      "css\t801\t10\n",
      "Time taken: 109.067 seconds, Fetched: 10 row(s)\n"
     ]
    }
   ],
   "source": [
    "! hive -f query.hql"
   ]
  },
  {
   "cell_type": "code",
   "execution_count": null,
   "metadata": {},
   "outputs": [],
   "source": []
  }
 ],
 "metadata": {
  "kernelspec": {
   "display_name": "Python 2",
   "language": "python",
   "name": "python2"
  },
  "language_info": {
   "codemirror_mode": {
    "name": "ipython",
    "version": 2
   },
   "file_extension": ".py",
   "mimetype": "text/x-python",
   "name": "python",
   "nbconvert_exporter": "python",
   "pygments_lexer": "ipython2",
   "version": "2.7.12"
  }
 },
 "nbformat": 4,
 "nbformat_minor": 2
}
