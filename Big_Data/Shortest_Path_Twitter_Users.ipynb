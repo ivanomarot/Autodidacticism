{
 "cells": [
  {
   "cell_type": "code",
   "execution_count": 1,
   "metadata": {},
   "outputs": [],
   "source": [
    "from pyspark import SparkConf, SparkContext\n",
    "sc = SparkContext(conf=SparkConf().setAppName(\"MyApp\").setMaster(\"local\"))\n",
    "\n",
    "def parse_edge(s):\n",
    "  user, follower = s.split(\"\\t\")\n",
    "  return (int(user), int(follower))\n",
    "\n",
    "def step(item):\n",
    "  prev_v, prev_d, next_v = item[0], item[1][0], item[1][1]\n",
    "  return (next_v, prev_d + 1)\n",
    "\n",
    "def complete(item):\n",
    "  v, old_d, new_d = item[0], item[1][0], item[1][1]\n",
    "  return (v, old_d if old_d is not None else new_d)"
   ]
  },
  {
   "cell_type": "code",
   "execution_count": 2,
   "metadata": {},
   "outputs": [],
   "source": [
    "n = 4  # number of partitions\n",
    "edges = sc.textFile(\"/data/twitter/twitter_sample.txt\").map(parse_edge).cache()\n",
    "forward_edges = edges.map(lambda e: (e[1], e[0])).partitionBy(n).persist()\n",
    "x = 12\n",
    "d = 0\n",
    "y = 34\n",
    "distances = sc.parallelize([(x, d)]).partitionBy(n)"
   ]
  },
  {
   "cell_type": "code",
   "execution_count": 3,
   "metadata": {},
   "outputs": [],
   "source": [
    "while True:\n",
    "  candidates = distances.join(forward_edges, n).map(step)\n",
    "  new_distances = distances.fullOuterJoin(candidates, n).map(complete, True).persist()\n",
    "  count = new_distances.filter(lambda i: i[1] == d + 1).count()\n",
    "  filtered = new_distances.filter(lambda i: i[1] == d + 1).distinct().collect()\n",
    "  if count > 0:\n",
    "    d += 1\n",
    "    distances = new_distances.distinct()\n",
    "    #print (\"d = %d count = %d\" %(d,count))\n",
    "    #print filtered\n",
    "    end_filter = new_distances.filter(lambda i: i[0] == y).count()\n",
    "    if end_filter > 0:\n",
    "        break\n",
    "  else:\n",
    "    break"
   ]
  },
  {
   "cell_type": "code",
   "execution_count": 4,
   "metadata": {},
   "outputs": [
    {
     "name": "stdout",
     "output_type": "stream",
     "text": [
      "12,422,53,52,107,20,23,274,34\n"
     ]
    }
   ],
   "source": [
    "#y = 34\n",
    "#d = 8\n",
    "result = [y]\n",
    "while True:\n",
    "    prev_followers = new_distances.filter(lambda i: i[1] == d - 1).distinct().collect()\n",
    "    for element in prev_followers:\n",
    "        prev_follower = sc.parallelize([(element[0], element[1])]).partitionBy(n)\n",
    "        check_prev = prev_follower.join(forward_edges, n).filter(lambda i: i[1][1] == y).count()\n",
    "        if check_prev > 0:\n",
    "            result.insert(0,element[0])\n",
    "            y = element[0]\n",
    "            d -= 1\n",
    "            break\n",
    "    if d == 0:\n",
    "        break\n",
    "myString = \",\".join(map(str, result))\n",
    "print myString"
   ]
  },
  {
   "cell_type": "code",
   "execution_count": null,
   "metadata": {},
   "outputs": [],
   "source": []
  }
 ],
 "metadata": {
  "kernelspec": {
   "display_name": "Python 2",
   "language": "python",
   "name": "python2"
  },
  "language_info": {
   "codemirror_mode": {
    "name": "ipython",
    "version": 2
   },
   "file_extension": ".py",
   "mimetype": "text/x-python",
   "name": "python",
   "nbconvert_exporter": "python",
   "pygments_lexer": "ipython2",
   "version": "2.7.12"
  }
 },
 "nbformat": 4,
 "nbformat_minor": 2
}
