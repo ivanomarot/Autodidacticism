{
 "cells": [
  {
   "cell_type": "code",
   "execution_count": 6,
   "metadata": {},
   "outputs": [
    {
     "name": "stdout",
     "output_type": "stream",
     "text": [
      "Overwriting mapper.py\n"
     ]
    }
   ],
   "source": [
    "%%writefile mapper.py\n",
    "\n",
    "import sys\n",
    "import re\n",
    "\n",
    "reload(sys)\n",
    "sys.setdefaultencoding('utf-8') # required to convert to unicode\n",
    "\n",
    "for line in sys.stdin:\n",
    "    try:\n",
    "        article_id, text = unicode(line.strip()).split('\\t', 1)\n",
    "    except ValueError as e:\n",
    "        continue\n",
    "    words = re.split(\"\\W*\\s+\\W*\", text, flags=re.UNICODE)\n",
    "    for word in words:\n",
    "        print \"%s\\t%d\" % (word.lower(), 1)"
   ]
  },
  {
   "cell_type": "code",
   "execution_count": 13,
   "metadata": {},
   "outputs": [
    {
     "name": "stdout",
     "output_type": "stream",
     "text": [
      "Overwriting reducer.py\n"
     ]
    }
   ],
   "source": [
    "%%writefile reducer.py\n",
    "\n",
    "import sys\n",
    "\n",
    "current_key = None\n",
    "word_sum = 0\n",
    "stop_sum=0\n",
    "list_index=0\n",
    "word_count=0\n",
    "stop_count=0\n",
    "percentage=0.0\n",
    "\n",
    "with open(\"stop_words_en.txt\") as stopfile:\n",
    "    stopwords = stopfile.readlines()\n",
    "\n",
    "for line in sys.stdin:\n",
    "    try:\n",
    "        key, count = line.strip().split('\\t', 1)\n",
    "        count = int(count)\n",
    "    except ValueError as e:\n",
    "        continue\n",
    "    if current_key != key:\n",
    "        if current_key:\n",
    "            #print \"%s\\t%d\" % (current_key, word_sum)\n",
    "            for stopword in stopwords:\n",
    "                if stopword.strip() == current_key:\n",
    "                    stop_sum += word_sum\n",
    "                    print >> sys.stderr, \"reporter:counter:Wiki stats,Total stop words,%d\" % stop_sum\n",
    "                    stop_count += stop_sum\n",
    "            print >> sys.stderr, \"reporter:counter:Wiki stats,Total words,%d\" % word_sum\n",
    "            word_count += word_sum\n",
    "        word_sum = 0\n",
    "        stop_sum = 0\n",
    "        current_key = key\n",
    "    word_sum += count\n",
    "if current_key:\n",
    "    #print \"%s\\t%d\" % (current_key, word_sum)\n",
    "    for stopword in stopwords:\n",
    "        if stopword.strip() == current_key:\n",
    "            stop_sum += word_sum\n",
    "            print >> sys.stderr, \"reporter:counter:Wiki stats,Total stop words,%d\" % stop_sum\n",
    "            stop_count += stop_sum\n",
    "    print >> sys.stderr, \"reporter:counter:Wiki stats,Total words,%d\" % word_sum\n",
    "    word_count += word_sum\n",
    "word_count = float(word_count)\n",
    "stop_count = float(stop_count)\n",
    "percentage = ( stop_count / word_count ) * 100.0\n",
    "print \"%f\" % percentage"
   ]
  },
  {
   "cell_type": "code",
   "execution_count": 3,
   "metadata": {},
   "outputs": [
    {
     "name": "stdout",
     "output_type": "stream",
     "text": [
      "Writing mapper2.py\n"
     ]
    }
   ],
   "source": [
    "%%writefile mapper2.py\n",
    "\n",
    "import sys\n",
    "import re\n",
    "\n",
    "reload(sys)\n",
    "sys.setdefaultencoding('utf-8') # required to convert to unicode\n",
    "\n",
    "for line in sys.stdin:\n",
    "    try:\n",
    "        key, count = unicode(line.strip()).split('\\t', 1)\n",
    "        count = int(count)\n",
    "    except ValueError as e:\n",
    "        continue\n",
    "    words = re.split(\"\\W*\\s+\\W*\", key, flags=re.UNICODE)\n",
    "    for word in words:\n",
    "        print >> sys.stderr, \"reporter:counter:Wiki stats,Total words,%d\" % 1\n",
    "        print \"%s\\t%d\" % (word.lower(), count)"
   ]
  },
  {
   "cell_type": "code",
   "execution_count": 4,
   "metadata": {},
   "outputs": [
    {
     "name": "stdout",
     "output_type": "stream",
     "text": [
      "Writing reducer2.py\n"
     ]
    }
   ],
   "source": [
    "%%writefile reducer2.py\n",
    "\n",
    "import sys\n",
    "\n",
    "current_key = None\n",
    "word_sum = 0\n",
    "stop_sum=0\n",
    "list_index=0\n",
    "percentage=0.0\n",
    "\n",
    "with open(\"stop_words_en.txt\") as stopfile:\n",
    "    #stopwords = [line.rstrip() for line in stopfile]\n",
    "    stopwords = stopfile.readlines()\n",
    "\n",
    "for line in sys.stdin:\n",
    "    try:\n",
    "        key, count = line.strip().split('\\t', 1)\n",
    "        count = int(count)\n",
    "    except ValueError as e:\n",
    "        continue\n",
    "    word_sum += count\n",
    "    for stopword in stopwords:\n",
    "        #list_index += 1\n",
    "        #print(\"%s\\t%s\" % (stopword.strip(), key))\n",
    "        if stopword.strip() == key:\n",
    "            stop_sum += count\n",
    "            #del stopwords[list_index]\n",
    "            #break\n",
    "#print \"Words: %d\" % word_sum\n",
    "#print \"Stop Words: %d\" % stop_sum\n",
    "word_sum = float(word_sum)\n",
    "stop_sum = float(stop_sum)\n",
    "percentage = ( stop_sum / word_sum ) * 100.0\n",
    "print \"%f\" % percentage"
   ]
  },
  {
   "cell_type": "code",
   "execution_count": 14,
   "metadata": {},
   "outputs": [
    {
     "name": "stdout",
     "output_type": "stream",
     "text": [
      "41.602824\t\n"
     ]
    },
    {
     "name": "stderr",
     "output_type": "stream",
     "text": [
      "rm: `wordcount_result_1513153145272371': No such file or directory\n",
      "17/12/13 08:19:08 INFO client.RMProxy: Connecting to ResourceManager at /0.0.0.0:8032\n",
      "17/12/13 08:19:08 INFO client.RMProxy: Connecting to ResourceManager at /0.0.0.0:8032\n",
      "17/12/13 08:19:09 INFO mapred.FileInputFormat: Total input files to process : 1\n",
      "17/12/13 08:19:09 INFO mapreduce.JobSubmitter: number of splits:2\n",
      "17/12/13 08:19:09 INFO mapreduce.JobSubmitter: Submitting tokens for job: job_1513144645380_0008\n",
      "17/12/13 08:19:09 INFO impl.YarnClientImpl: Submitted application application_1513144645380_0008\n",
      "17/12/13 08:19:09 INFO mapreduce.Job: The url to track the job: http://8466be51a335:8088/proxy/application_1513144645380_0008/\n",
      "17/12/13 08:19:09 INFO mapreduce.Job: Running job: job_1513144645380_0008\n",
      "17/12/13 08:19:15 INFO mapreduce.Job: Job job_1513144645380_0008 running in uber mode : false\n",
      "17/12/13 08:19:15 INFO mapreduce.Job:  map 0% reduce 0%\n",
      "17/12/13 08:19:31 INFO mapreduce.Job:  map 46% reduce 0%\n",
      "17/12/13 08:19:37 INFO mapreduce.Job:  map 67% reduce 0%\n",
      "17/12/13 08:19:42 INFO mapreduce.Job:  map 100% reduce 0%\n",
      "17/12/13 08:19:59 INFO mapreduce.Job:  map 100% reduce 73%\n",
      "17/12/13 08:20:05 INFO mapreduce.Job:  map 100% reduce 78%\n",
      "17/12/13 08:20:11 INFO mapreduce.Job:  map 100% reduce 82%\n",
      "17/12/13 08:20:17 INFO mapreduce.Job:  map 100% reduce 86%\n",
      "17/12/13 08:20:23 INFO mapreduce.Job:  map 100% reduce 90%\n",
      "17/12/13 08:20:29 INFO mapreduce.Job:  map 100% reduce 94%\n",
      "17/12/13 08:20:35 INFO mapreduce.Job:  map 100% reduce 100%\n",
      "17/12/13 08:20:37 INFO mapreduce.Job: Job job_1513144645380_0008 completed successfully\n",
      "17/12/13 08:20:37 INFO mapreduce.Job: Counters: 51\n",
      "\tFile System Counters\n",
      "\t\tFILE: Number of bytes read=243434428\n",
      "\t\tFILE: Number of bytes written=365571506\n",
      "\t\tFILE: Number of read operations=0\n",
      "\t\tFILE: Number of large read operations=0\n",
      "\t\tFILE: Number of write operations=0\n",
      "\t\tHDFS: Number of bytes read=76874501\n",
      "\t\tHDFS: Number of bytes written=11\n",
      "\t\tHDFS: Number of read operations=9\n",
      "\t\tHDFS: Number of large read operations=0\n",
      "\t\tHDFS: Number of write operations=2\n",
      "\tJob Counters \n",
      "\t\tLaunched map tasks=2\n",
      "\t\tLaunched reduce tasks=1\n",
      "\t\tData-local map tasks=2\n",
      "\t\tTotal time spent by all maps in occupied slots (ms)=49167\n",
      "\t\tTotal time spent by all reduces in occupied slots (ms)=51425\n",
      "\t\tTotal time spent by all map tasks (ms)=49167\n",
      "\t\tTotal time spent by all reduce tasks (ms)=51425\n",
      "\t\tTotal vcore-milliseconds taken by all map tasks=49167\n",
      "\t\tTotal vcore-milliseconds taken by all reduce tasks=51425\n",
      "\t\tTotal megabyte-milliseconds taken by all map tasks=50347008\n",
      "\t\tTotal megabyte-milliseconds taken by all reduce tasks=52659200\n",
      "\tMap-Reduce Framework\n",
      "\t\tMap input records=4100\n",
      "\t\tMap output records=11937375\n",
      "\t\tMap output bytes=97842436\n",
      "\t\tMap output materialized bytes=121717208\n",
      "\t\tInput split bytes=228\n",
      "\t\tCombine input records=0\n",
      "\t\tCombine output records=0\n",
      "\t\tReduce input groups=427176\n",
      "\t\tReduce shuffle bytes=121717208\n",
      "\t\tReduce input records=11937375\n",
      "\t\tReduce output records=1\n",
      "\t\tSpilled Records=35812125\n",
      "\t\tShuffled Maps =2\n",
      "\t\tFailed Shuffles=0\n",
      "\t\tMerged Map outputs=2\n",
      "\t\tGC time elapsed (ms)=450\n",
      "\t\tCPU time spent (ms)=109340\n",
      "\t\tPhysical memory (bytes) snapshot=791564288\n",
      "\t\tVirtual memory (bytes) snapshot=6039212032\n",
      "\t\tTotal committed heap usage (bytes)=535822336\n",
      "\tShuffle Errors\n",
      "\t\tBAD_ID=0\n",
      "\t\tCONNECTION=0\n",
      "\t\tIO_ERROR=0\n",
      "\t\tWRONG_LENGTH=0\n",
      "\t\tWRONG_MAP=0\n",
      "\t\tWRONG_REDUCE=0\n",
      "\tWiki stats\n",
      "\t\tTotal stop words=4966261\n",
      "\t\tTotal words=11937317\n",
      "\tFile Input Format Counters \n",
      "\t\tBytes Read=76874273\n",
      "\tFile Output Format Counters \n",
      "\t\tBytes Written=11\n",
      "17/12/13 08:20:37 INFO streaming.StreamJob: Output directory: wordcount_result_1513153145272371\n"
     ]
    }
   ],
   "source": [
    "%%bash\n",
    "\n",
    "OUT_DIR=\"wordcount_result_\"$(date +\"%s%6N\")\n",
    "NUM_REDUCERS=1\n",
    "\n",
    "hdfs dfs -rm -r -skipTrash ${OUT_DIR} > /dev/null\n",
    "\n",
    "yarn jar /opt/cloudera/parcels/CDH/lib/hadoop-mapreduce/hadoop-streaming.jar \\\n",
    "    -D mapred.jab.name=\"Streaming Stop Words1\" \\\n",
    "    -D mapreduce.job.reduces=${NUM_REDUCERS} \\\n",
    "    -files mapper.py,reducer.py,/datasets/stop_words_en.txt \\\n",
    "    -mapper \"python2 mapper.py\" \\\n",
    "    -reducer \"python2 reducer.py\" \\\n",
    "    -input /data/wiki/en_articles_part \\\n",
    "    -output ${OUT_DIR} > /dev/null\n",
    "\n",
    "#hdfs dfs -cat ${OUT_DIR}/part-00000 | head\n",
    "\n",
    "#OUT_DIR2=\"wordcount_result_\"$(date +\"%s%6N\")\n",
    "#NUM_REDUCERS2=1\n",
    "\n",
    "#hdfs dfs -rm -r -skipTrash ${OUT_DIR2} > /dev/null\n",
    "\n",
    "#yarn jar /opt/cloudera/parcels/CDH/lib/hadoop-mapreduce/hadoop-streaming.jar \\\n",
    "#    -D mapred.jab.name=\"Streaming Stop Words2\" \\\n",
    "#    -D mapreduce.job.reduces=${NUM_REDUCERS2} \\\n",
    "#    -files mapper2.py,reducer2.py,/datasets/stop_words_en.txt \\\n",
    "#    -mapper \"python2 mapper2.py\" \\\n",
    "#    -reducer \"python2 reducer2.py\" \\\n",
    "#    -input ${OUT_DIR} \\\n",
    "#    -output ${OUT_DIR2} > /dev/null\n",
    "    \n",
    "hdfs dfs -cat ${OUT_DIR}/part-00000"
   ]
  },
  {
   "cell_type": "code",
   "execution_count": null,
   "metadata": {},
   "outputs": [],
   "source": []
  }
 ],
 "metadata": {
  "kernelspec": {
   "display_name": "Python 2",
   "language": "python",
   "name": "python2"
  },
  "language_info": {
   "codemirror_mode": {
    "name": "ipython",
    "version": 2
   },
   "file_extension": ".py",
   "mimetype": "text/x-python",
   "name": "python",
   "nbconvert_exporter": "python",
   "pygments_lexer": "ipython2",
   "version": "2.7.12"
  }
 },
 "nbformat": 4,
 "nbformat_minor": 2
}
